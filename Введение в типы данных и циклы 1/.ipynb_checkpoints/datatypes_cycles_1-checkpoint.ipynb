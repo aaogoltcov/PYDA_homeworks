{
 "cells": [
  {
   "cell_type": "markdown",
   "metadata": {},
   "source": [
    "**Задача 1**. Дано слово из латинских букв. Напишите скрипт, который выводит на экран букву из середины слова (если число букв нечетное). Если букв четное число, то на экран выводятся две буквы из середины.  \n",
    "\n",
    "Пример: для 'test' должно выводится 'es', для 'testing' - 't'"
   ]
  },
  {
   "cell_type": "code",
   "execution_count": 21,
   "metadata": {},
   "outputs": [
    {
     "name": "stdout",
     "output_type": "stream",
     "text": [
      "es\n",
      "t\n"
     ]
    }
   ],
   "source": [
    "def get_middle_symbol(word):\n",
    "    if len(word) % 2 == 0:\n",
    "        return word[((len(word)) // 2 - 1):(len(word) // 2 + 1)]\n",
    "    else:\n",
    "        return word[((len(word)) // 2)]\n",
    "    \n",
    "print(get_middle_symbol('test'))\n",
    "print(get_middle_symbol('testing'))"
   ]
  },
  {
   "cell_type": "markdown",
   "metadata": {},
   "source": [
    "**Задача 2**. Мы делаем MVP dating-сервиса, и у нас есть список парней и девушек (их число может варьироваться):"
   ]
  },
  {
   "cell_type": "code",
   "execution_count": 23,
   "metadata": {},
   "outputs": [
    {
     "name": "stdout",
     "output_type": "stream",
     "text": [
      "Alex и Emma\n",
      "Arthur и Kate\n",
      "John и Kira\n",
      "Peter и Liza\n",
      "Richard и Trisha\n"
     ]
    }
   ],
   "source": [
    "boys = ['Peter', 'Alex', 'John', 'Arthur', 'Richard']\n",
    "girls = ['Kate', 'Liza', 'Kira', 'Emma', 'Trisha']\n",
    "\n",
    "def get_zip_list(list_a, list_b):\n",
    "    if len(list_a) != len(list_b):\n",
    "        print('Кто-то может остаться без пары!')\n",
    "    else:\n",
    "        for name_a, name_b in zip(sorted(list_a), sorted(list_b)):\n",
    "            print(name_a + ' и ' + name_b)\n",
    "            \n",
    "get_zip_list(boys, girls)"
   ]
  },
  {
   "cell_type": "markdown",
   "metadata": {},
   "source": [
    "Выдвигаем гипотезу: лучшие рекомендации мы получим, если просто отсортируем имена по алфавиту и познакомим людей с одинаковыми индексами после сортировки! \"Познакомить\" пары нам поможет функция zip, а в цикле распакуем zip-объект и выведем информацию в виде:\n",
    "\n",
    "Идеальные пары:  \n",
    "Alex и Emma  \n",
    "Arthur и Kate  \n",
    "John и Kira  \n",
    "Peter и Liza  \n",
    "Richard и Trisha  "
   ]
  },
  {
   "cell_type": "markdown",
   "metadata": {},
   "source": [
    "**Внимание! Если количество людей в списках будет не совпадать, то мы никого знакомить не будет и выведем пользователю предупреждение, что кто-то может остаться без пары!**"
   ]
  },
  {
   "cell_type": "markdown",
   "metadata": {},
   "source": [
    "**Задача 3**. У нас есть список, содержащий информацию о среднедневной температуре в Фаренгейтах за недельный период по странам.\n",
    "Необходимо написать код, который рассчитает среднюю температуру за неделю в Цельсиях для каждой страны."
   ]
  },
  {
   "cell_type": "code",
   "execution_count": 27,
   "metadata": {},
   "outputs": [
    {
     "name": "stdout",
     "output_type": "stream",
     "text": [
      "Thailand: 75\n",
      "Germany: 57\n",
      "Russia: 39\n",
      "Poland: 53\n"
     ]
    }
   ],
   "source": [
    "countries_temperature = [\n",
    " ['Thailand', [75.2, 77, 78.8, 73.4, 68, 75.2, 77]],\n",
    " ['Germany', [57.2, 55.4, 59, 59, 53.6, 55.4, 57.2]],\n",
    " ['Russia', [35.6, 37.4, 39.2, 41, 42.8, 39.2, 35.6]],\n",
    " ['Poland', [50, 50, 53.6, 57.2, 55.4, 55.4, 51.8]],\n",
    "]\n",
    "\n",
    "def get_weekly_temperature(list_of_countries):\n",
    "    for country in list_of_countries:\n",
    "        print(f'{country[0]}: {round(sum(country[1]) / len(country[1]))}')\n",
    "                               \n",
    "get_weekly_temperature(countries_temperature)"
   ]
  },
  {
   "cell_type": "markdown",
   "metadata": {},
   "source": [
    "**Задача 4.** Дан поток логов по количеству просмотренных страниц для каждого пользователя. Список отсортирован по ID пользователя. Вам необходимо написать алгоритм, который считает среднее значение просмотров на пользователя. \n",
    "Т. е. надо посчитать отношение суммы всех просмотров к количеству уникальных пользователей."
   ]
  },
  {
   "cell_type": "code",
   "execution_count": 41,
   "metadata": {},
   "outputs": [
    {
     "name": "stdout",
     "output_type": "stream",
     "text": [
      "Отношение суммы всех просмотров к количеству уникальных пользователей: 23\n"
     ]
    }
   ],
   "source": [
    "stream = [\n",
    "    '2018-01-01,user1,3',\n",
    "    '2018-01-07,user1,4',\n",
    "    '2018-03-29,user1,1',\n",
    "    '2018-04-04,user1,13',\n",
    "    '2018-01-05,user2,7',\n",
    "    '2018-06-14,user3,4',\n",
    "    '2018-07-02,user3,10',\n",
    "    '2018-03-21,user4,19',\n",
    "    '2018-03-22,user4,4',\n",
    "    '2018-04-22,user4,8',\n",
    "    '2018-05-03,user4,9',\n",
    "    '2018-05-11,user4,11',\n",
    "]\n",
    "\n",
    "def get_amount_of_streams(streams):\n",
    "    list_of_users = []\n",
    "    sum_of_streams = int()\n",
    "    for stream in streams:\n",
    "        list_of_users.append(stream.split(',')[1])\n",
    "        sum_of_streams += int(stream.split(',')[2])\n",
    "    print(f'Отношение суммы всех просмотров к количеству уникальных пользователей: {round(sum_of_streams / len(set(list_of_users)))}')\n",
    "\n",
    "get_amount_of_streams(stream)        "
   ]
  },
  {
   "cell_type": "markdown",
   "metadata": {},
   "source": [
    "**Задача 5**. Дана статистика рекламных кампаний по дням. Напишите алгоритм, который по паре дата-кампания ищет значение численного столбца. \n",
    "Т. е. для даты '2018-01-01' и 'google' нужно получить число 25. \n",
    "Считайте, что все комбинации дата-кампания уникальны."
   ]
  },
  {
   "cell_type": "code",
   "execution_count": 45,
   "metadata": {},
   "outputs": [
    {
     "name": "stdout",
     "output_type": "stream",
     "text": [
      "Stat for google is 25\n",
      "Stat for Google is 25\n",
      "Stat for yandeX is 249\n"
     ]
    }
   ],
   "source": [
    "stats = [\n",
    "    ['2018-01-01', 'google', 25],\n",
    "    ['2018-01-01', 'yandex', 65],\n",
    "    ['2018-01-01', 'market', 89],\n",
    "    ['2018-01-02', 'google', 574],\n",
    "    ['2018-01-02', 'yandex', 249],\n",
    "    ['2018-01-02', 'market', 994],\n",
    "    ['2018-01-03', 'google', 1843],\n",
    "    ['2018-01-03', 'yandex', 1327],\n",
    "    ['2018-01-03', 'market', 1764],\n",
    "]\n",
    "\n",
    "def get_stat(date, company, stats):\n",
    "    for stat in stats:\n",
    "        if date == stat[0] and stat[1].lower().find(company.lower()) >= 0:\n",
    "            return print(f'Stat for {company} is {stat[2]}')\n",
    "        \n",
    "get_stat(date='2018-01-01', company='google', stats=stats)\n",
    "get_stat(date='2018-01-01', company='Google', stats=stats)\n",
    "get_stat(date='2018-01-02', company='yandeX', stats=stats)"
   ]
  },
  {
   "cell_type": "markdown",
   "metadata": {},
   "source": [
    "**Задача 6**. Дан список вида:"
   ]
  },
  {
   "cell_type": "code",
   "execution_count": 58,
   "metadata": {},
   "outputs": [
    {
     "name": "stdout",
     "output_type": "stream",
     "text": [
      "Sum for diagonal 1 is 124\n",
      "Sum for diagonal 2 is 103\n",
      "Sum for diagonal 1 is 170\n",
      "Sum for diagonal 2 is 137\n"
     ]
    }
   ],
   "source": [
    "data = [\n",
    "    [13, 25, 23, 34],\n",
    "    [45, 32, 44, 47],\n",
    "    [12, 33, 23, 95],\n",
    "    [13, 53, 34, 35]\n",
    "]\n",
    "\n",
    "data_new = [\n",
    "    [13, 25, 23, 34, 34],\n",
    "    [45, 32, 44, 47, 47],\n",
    "    [12, 33, 23, 95, 95],\n",
    "    [13, 53, 34, 35, 35],\n",
    "    [13, 25, 23, 34, 34]\n",
    "]\n",
    "\n",
    "def get_diagonal_sum(square, diagonal):\n",
    "    row = 0\n",
    "    if diagonal == 1:\n",
    "        column = len(square) - 1\n",
    "    else:\n",
    "        column = 0\n",
    "    diagonal_sum = int()\n",
    "    while row < len(square):\n",
    "        diagonal_sum += square[row][column]\n",
    "#         print(square[row][column])\n",
    "        row += 1\n",
    "        if diagonal == 1:\n",
    "            column -= 1\n",
    "        else:\n",
    "            column += 1\n",
    "    return print(f'Sum for diagonal {diagonal} is {diagonal_sum}')\n",
    "        \n",
    "get_diagonal_sum(data, 1)\n",
    "get_diagonal_sum(data, 2)\n",
    "get_diagonal_sum(data_new, 1)\n",
    "get_diagonal_sum(data_new, 2)"
   ]
  },
  {
   "cell_type": "markdown",
   "metadata": {},
   "source": [
    "Напишите код, который будет вычислять сумму элементов на диагонали. Т. е. 13+32+23+35.  \n",
    "Список может быть любой длины, но всегда является \"квадратным\" (количество элементов во вложенных списках равно их количеству)."
   ]
  },
  {
   "cell_type": "code",
   "execution_count": null,
   "metadata": {},
   "outputs": [],
   "source": []
  }
 ],
 "metadata": {
  "kernelspec": {
   "display_name": "Python 3",
   "language": "python",
   "name": "python3"
  },
  "language_info": {
   "codemirror_mode": {
    "name": "ipython",
    "version": 3
   },
   "file_extension": ".py",
   "mimetype": "text/x-python",
   "name": "python",
   "nbconvert_exporter": "python",
   "pygments_lexer": "ipython3",
   "version": "3.7.6"
  }
 },
 "nbformat": 4,
 "nbformat_minor": 2
}
