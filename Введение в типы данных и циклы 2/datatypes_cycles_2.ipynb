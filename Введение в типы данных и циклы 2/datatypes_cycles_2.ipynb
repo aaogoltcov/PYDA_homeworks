{
 "cells": [
  {
   "cell_type": "markdown",
   "metadata": {},
   "source": [
    "**Задание 1**. Дан список с визитами по городам и странам. \n",
    "Напишите код, который возвращает отфильтрованный список geo_logs, содержащий только визиты из России."
   ]
  },
  {
   "cell_type": "code",
   "execution_count": 17,
   "metadata": {},
   "outputs": [],
   "source": [
    "import pprint"
   ]
  },
  {
   "cell_type": "code",
   "execution_count": 25,
   "metadata": {},
   "outputs": [
    {
     "name": "stdout",
     "output_type": "stream",
     "text": [
      "[{'visit1': ['Москва', 'Россия']}, {'visit3': ['Владимир', 'Россия']}, {'visit7': ['Тула', 'Россия']}, {'visit8': ['Тула', 'Россия']}, {'visit9': ['Курск', 'Россия']}, {'visit10': ['Архангельск', 'Россия']}]\n",
      "[{'visit1': ['Москва', 'Россия']}, {'visit3': ['Владимир', 'Россия']}, {'visit7': ['Тула', 'Россия']}, {'visit8': ['Тула', 'Россия']}, {'visit9': ['Курск', 'Россия']}, {'visit10': ['Архангельск', 'Россия']}]\n",
      "[{'visit1': ['Москва', 'Россия']}, {'visit3': ['Владимир', 'Россия']}, {'visit7': ['Тула', 'Россия']}, {'visit8': ['Тула', 'Россия']}, {'visit9': ['Курск', 'Россия']}, {'visit10': ['Архангельск', 'Россия']}]\n"
     ]
    }
   ],
   "source": [
    "geo_logs = [\n",
    "    {'visit1': ['Москва', 'Россия']},\n",
    "    {'visit2': ['Дели', 'Индия']},\n",
    "    {'visit3': ['Владимир', 'Россия']},\n",
    "    {'visit4': ['Лиссабон', 'Португалия']},\n",
    "    {'visit5': ['Париж', 'Франция']},\n",
    "    {'visit6': ['Лиссабон', 'Португалия']},\n",
    "    {'visit7': ['Тула', 'Россия']},\n",
    "    {'visit8': ['Тула', 'Россия']},\n",
    "    {'visit9': ['Курск', 'Россия']},\n",
    "    {'visit10': ['Архангельск', 'Россия']}\n",
    "]\n",
    "\n",
    "def get_filter_list(visities, dep_country):\n",
    "#     for visite in visities:\n",
    "#         print(list(visite.values())[0])\n",
    "    return print(list(visite for visite in visities if (list(visite.values())[0][1].lower().find(dep_country.lower()) >= 0)))\n",
    "\n",
    "get_filter_list(geo_logs, 'Россия')\n",
    "get_filter_list(geo_logs, 'россия')\n",
    "get_filter_list(geo_logs, 'росс')"
   ]
  },
  {
   "cell_type": "markdown",
   "metadata": {},
   "source": [
    "**Задание 2**. Выведите на экран все уникальные гео-ID из значений словаря ids. Т. е. список вида [213, 15, 54, 119, 98, 35]"
   ]
  },
  {
   "cell_type": "code",
   "execution_count": 23,
   "metadata": {},
   "outputs": [
    {
     "name": "stdout",
     "output_type": "stream",
     "text": [
      "[15, 35, 54, 98, 119, 213]\n"
     ]
    }
   ],
   "source": [
    "ids = {'user1': [213, 213, 213, 15, 213], \n",
    "       'user2': [54, 54, 119, 119, 119], \n",
    "       'user3': [213, 98, 98, 35]}\n",
    "\n",
    "def get_set_of_ids(ids):\n",
    "    set_of_ids = []\n",
    "    for key, value in ids.items():\n",
    "        set_of_ids.extend(value)\n",
    "    return print(sorted(set(set_of_ids)))\n",
    "    \n",
    "get_set_of_ids(ids)"
   ]
  },
  {
   "cell_type": "markdown",
   "metadata": {},
   "source": [
    "**Задание 3**. Дан список поисковых запросов. Получить распределение количества слов в них. \n",
    "Т. е. поисковых запросов из одного - слова 5%, из двух - 7%, из трех - 3% и т.д."
   ]
  },
  {
   "cell_type": "code",
   "execution_count": 44,
   "metadata": {},
   "outputs": [
    {
     "name": "stdout",
     "output_type": "stream",
     "text": [
      "Из 3 слов(а) - 57%\n",
      "Из 2 слов(а) - 43%\n"
     ]
    }
   ],
   "source": [
    "queries = [\n",
    "    'смотреть сериалы онлайн',\n",
    "    'новости спорта',\n",
    "    'афиша кино',\n",
    "    'курс доллара',\n",
    "    'сериалы этим летом',\n",
    "    'курс по питону',\n",
    "    'сериалы про спорт',\n",
    "]\n",
    "\n",
    "def get_words_stats(list_of_queries):\n",
    "    list_of_queries_length = len(list_of_queries)\n",
    "    list_of_words_counts = list(len(words.split(' ')) for words in list_of_queries if words)\n",
    "    for key, value in {word: list_of_words_counts.count(word) for word in list_of_words_counts}.items():\n",
    "        print(f'Из {key} слов(а) - {round(value / list_of_queries_length * 100)}%')\n",
    "        \n",
    "get_words_stats(queries)"
   ]
  },
  {
   "cell_type": "markdown",
   "metadata": {},
   "source": [
    "**Задание 4**. Дана статистика рекламных каналов по объемам продаж. Напишите скрипт, который возвращает название канала с максимальным объемом.\n",
    "Т. е. в данном примере скрипт должен возвращать 'yandex'."
   ]
  },
  {
   "cell_type": "code",
   "execution_count": 50,
   "metadata": {},
   "outputs": [
    {
     "name": "stdout",
     "output_type": "stream",
     "text": [
      "yandex\n"
     ]
    }
   ],
   "source": [
    "stats = {'facebook': 55, 'yandex': 120, 'vk': 115, 'google': 99, 'email': 42, 'ok': 98}\n",
    "\n",
    "def get_max_value(stats):\n",
    "    return print(list(key for key, value in stats.items() if (value == max(stats.values())))[0])\n",
    "    \n",
    "get_max_value(stats)"
   ]
  },
  {
   "cell_type": "markdown",
   "metadata": {},
   "source": [
    "**Задание 5**. Напишите код для преобразования произвольного списка вида ['2018-01-01', 'yandex', 'cpc', 100] (он может быть любой длины) в словарь {'2018-01-01': {'yandex': {'cpc': 100}}}"
   ]
  },
  {
   "cell_type": "code",
   "execution_count": 166,
   "metadata": {},
   "outputs": [
    {
     "name": "stdout",
     "output_type": "stream",
     "text": [
      "{'2018-01-01': {'yandex': {'cpc': 100}}}\n",
      "{'2018-01-01': {'yandex': {'cpc': {100: {'2018-01-01': {'yandex': {'cpc': 100}}}}}}}\n"
     ]
    }
   ],
   "source": [
    "list_of_items = ['2018-01-01', 'yandex', 'cpc', 100]\n",
    "new_list_of_items = ['2018-01-01', 'yandex', 'cpc', 100, '2018-01-01', 'yandex', 'cpc', 100]\n",
    "\n",
    "def get_dict_from_list(list_of_items):   \n",
    "    dict_in_dict = current_dict = {}\n",
    "    for i, item in enumerate(list_of_items):\n",
    "        if i == (len(list_of_items) - 2):\n",
    "            pass\n",
    "        elif i == (len(list_of_items) - 1):\n",
    "            current_dict[previous_item] = item\n",
    "            current_dict = current_dict[previous_item]\n",
    "        else:\n",
    "            current_dict[item] = {}\n",
    "            current_dict = current_dict[item]\n",
    "        previous_item = item\n",
    "    return print(dict_in_dict)\n",
    "\n",
    "get_dict_from_list(list_of_items)\n",
    "get_dict_from_list(new_list_of_items)"
   ]
  }
 ],
 "metadata": {
  "kernelspec": {
   "display_name": "Python 3",
   "language": "python",
   "name": "python3"
  },
  "language_info": {
   "codemirror_mode": {
    "name": "ipython",
    "version": 3
   },
   "file_extension": ".py",
   "mimetype": "text/x-python",
   "name": "python",
   "nbconvert_exporter": "python",
   "pygments_lexer": "ipython3",
   "version": "3.7.6"
  }
 },
 "nbformat": 4,
 "nbformat_minor": 2
}
